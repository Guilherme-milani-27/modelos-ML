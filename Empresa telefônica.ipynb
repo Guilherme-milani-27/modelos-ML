{
 "cells": [
  {
   "cell_type": "markdown",
   "id": "c8ab1123",
   "metadata": {},
   "source": [
    "# Problema"
   ]
  },
  {
   "cell_type": "markdown",
   "id": "d08b20bb",
   "metadata": {},
   "source": [
    "Uma empresa de telecomunicações, necessita analisar um parâmetro referente aos clientes. \n",
    "\n",
    "Esse fator é o Churn, ou seja, a taxa de evasão os clientes. O objetivo do projeto é, utilizando métodos de classificação, definir se um determinado cliente, tem o potencial de permanecer ou não com a empresa.\n",
    "\n",
    "Com esse modelo de Machine Learning, uma nova cliente, com o nome de Maria\n"
   ]
  },
  {
   "cell_type": "markdown",
   "id": "8fa71097",
   "metadata": {},
   "source": [
    "## Importando bibliotecas"
   ]
  },
  {
   "cell_type": "code",
   "execution_count": 1,
   "id": "ed4c7375",
   "metadata": {},
   "outputs": [],
   "source": [
    "import pandas as pd\n",
    "from sklearn.preprocessing import StandardScaler\n",
    "import numpy as np\n",
    "import seaborn as sns\n",
    "import matplotlib.pyplot as plt"
   ]
  },
  {
   "cell_type": "markdown",
   "id": "fdd268de",
   "metadata": {},
   "source": [
    "## Importando base de dados"
   ]
  },
  {
   "cell_type": "code",
   "execution_count": 2,
   "id": "a000dea3",
   "metadata": {
    "scrolled": true
   },
   "outputs": [
    {
     "data": {
      "text/html": [
       "<div>\n",
       "<style scoped>\n",
       "    .dataframe tbody tr th:only-of-type {\n",
       "        vertical-align: middle;\n",
       "    }\n",
       "\n",
       "    .dataframe tbody tr th {\n",
       "        vertical-align: top;\n",
       "    }\n",
       "\n",
       "    .dataframe thead th {\n",
       "        text-align: right;\n",
       "    }\n",
       "</style>\n",
       "<table border=\"1\" class=\"dataframe\">\n",
       "  <thead>\n",
       "    <tr style=\"text-align: right;\">\n",
       "      <th></th>\n",
       "      <th>Maior65Anos</th>\n",
       "      <th>Conjuge</th>\n",
       "      <th>Dependentes</th>\n",
       "      <th>MesesDeContrato</th>\n",
       "      <th>TelefoneFixo</th>\n",
       "      <th>VariasLinhasTelefonicas</th>\n",
       "      <th>ServicoDeInternet</th>\n",
       "      <th>SegurancaOnline</th>\n",
       "      <th>BackupOnline</th>\n",
       "      <th>SeguroNoDispositivo</th>\n",
       "      <th>SuporteTecnico</th>\n",
       "      <th>TVaCabo</th>\n",
       "      <th>StreamingDeFilmes</th>\n",
       "      <th>TipoDeContrato</th>\n",
       "      <th>PagamentoOnline</th>\n",
       "      <th>FormaDePagamento</th>\n",
       "      <th>ContaMensal</th>\n",
       "      <th>Churn</th>\n",
       "    </tr>\n",
       "  </thead>\n",
       "  <tbody>\n",
       "    <tr>\n",
       "      <th>0</th>\n",
       "      <td>0</td>\n",
       "      <td>Sim</td>\n",
       "      <td>Nao</td>\n",
       "      <td>1</td>\n",
       "      <td>Nao</td>\n",
       "      <td>SemServicoTelefonico</td>\n",
       "      <td>DSL</td>\n",
       "      <td>Nao</td>\n",
       "      <td>Sim</td>\n",
       "      <td>Nao</td>\n",
       "      <td>Nao</td>\n",
       "      <td>Nao</td>\n",
       "      <td>Nao</td>\n",
       "      <td>Mensalmente</td>\n",
       "      <td>Sim</td>\n",
       "      <td>ChequeDigital</td>\n",
       "      <td>29.85</td>\n",
       "      <td>Nao</td>\n",
       "    </tr>\n",
       "    <tr>\n",
       "      <th>1</th>\n",
       "      <td>0</td>\n",
       "      <td>Nao</td>\n",
       "      <td>Nao</td>\n",
       "      <td>34</td>\n",
       "      <td>Sim</td>\n",
       "      <td>Nao</td>\n",
       "      <td>DSL</td>\n",
       "      <td>Sim</td>\n",
       "      <td>Nao</td>\n",
       "      <td>Sim</td>\n",
       "      <td>Nao</td>\n",
       "      <td>Nao</td>\n",
       "      <td>Nao</td>\n",
       "      <td>UmAno</td>\n",
       "      <td>Nao</td>\n",
       "      <td>ChequePapel</td>\n",
       "      <td>56.95</td>\n",
       "      <td>Nao</td>\n",
       "    </tr>\n",
       "    <tr>\n",
       "      <th>2</th>\n",
       "      <td>0</td>\n",
       "      <td>Nao</td>\n",
       "      <td>Nao</td>\n",
       "      <td>2</td>\n",
       "      <td>Sim</td>\n",
       "      <td>Nao</td>\n",
       "      <td>DSL</td>\n",
       "      <td>Sim</td>\n",
       "      <td>Sim</td>\n",
       "      <td>Nao</td>\n",
       "      <td>Nao</td>\n",
       "      <td>Nao</td>\n",
       "      <td>Nao</td>\n",
       "      <td>Mensalmente</td>\n",
       "      <td>Sim</td>\n",
       "      <td>ChequePapel</td>\n",
       "      <td>53.85</td>\n",
       "      <td>Sim</td>\n",
       "    </tr>\n",
       "    <tr>\n",
       "      <th>3</th>\n",
       "      <td>0</td>\n",
       "      <td>Nao</td>\n",
       "      <td>Nao</td>\n",
       "      <td>45</td>\n",
       "      <td>Nao</td>\n",
       "      <td>SemServicoTelefonico</td>\n",
       "      <td>DSL</td>\n",
       "      <td>Sim</td>\n",
       "      <td>Nao</td>\n",
       "      <td>Sim</td>\n",
       "      <td>Sim</td>\n",
       "      <td>Nao</td>\n",
       "      <td>Nao</td>\n",
       "      <td>UmAno</td>\n",
       "      <td>Nao</td>\n",
       "      <td>DebitoEmConta</td>\n",
       "      <td>42.30</td>\n",
       "      <td>Nao</td>\n",
       "    </tr>\n",
       "    <tr>\n",
       "      <th>4</th>\n",
       "      <td>0</td>\n",
       "      <td>Nao</td>\n",
       "      <td>Nao</td>\n",
       "      <td>2</td>\n",
       "      <td>Sim</td>\n",
       "      <td>Nao</td>\n",
       "      <td>FibraOptica</td>\n",
       "      <td>Nao</td>\n",
       "      <td>Nao</td>\n",
       "      <td>Nao</td>\n",
       "      <td>Nao</td>\n",
       "      <td>Nao</td>\n",
       "      <td>Nao</td>\n",
       "      <td>Mensalmente</td>\n",
       "      <td>Sim</td>\n",
       "      <td>ChequeDigital</td>\n",
       "      <td>70.70</td>\n",
       "      <td>Sim</td>\n",
       "    </tr>\n",
       "  </tbody>\n",
       "</table>\n",
       "</div>"
      ],
      "text/plain": [
       "   Maior65Anos Conjuge Dependentes  MesesDeContrato TelefoneFixo  \\\n",
       "0            0     Sim         Nao                1          Nao   \n",
       "1            0     Nao         Nao               34          Sim   \n",
       "2            0     Nao         Nao                2          Sim   \n",
       "3            0     Nao         Nao               45          Nao   \n",
       "4            0     Nao         Nao                2          Sim   \n",
       "\n",
       "  VariasLinhasTelefonicas ServicoDeInternet SegurancaOnline BackupOnline  \\\n",
       "0    SemServicoTelefonico               DSL             Nao          Sim   \n",
       "1                     Nao               DSL             Sim          Nao   \n",
       "2                     Nao               DSL             Sim          Sim   \n",
       "3    SemServicoTelefonico               DSL             Sim          Nao   \n",
       "4                     Nao       FibraOptica             Nao          Nao   \n",
       "\n",
       "  SeguroNoDispositivo SuporteTecnico TVaCabo StreamingDeFilmes TipoDeContrato  \\\n",
       "0                 Nao            Nao     Nao               Nao    Mensalmente   \n",
       "1                 Sim            Nao     Nao               Nao          UmAno   \n",
       "2                 Nao            Nao     Nao               Nao    Mensalmente   \n",
       "3                 Sim            Sim     Nao               Nao          UmAno   \n",
       "4                 Nao            Nao     Nao               Nao    Mensalmente   \n",
       "\n",
       "  PagamentoOnline FormaDePagamento  ContaMensal Churn  \n",
       "0             Sim    ChequeDigital        29.85   Nao  \n",
       "1             Nao      ChequePapel        56.95   Nao  \n",
       "2             Sim      ChequePapel        53.85   Sim  \n",
       "3             Nao    DebitoEmConta        42.30   Nao  \n",
       "4             Sim    ChequeDigital        70.70   Sim  "
      ]
     },
     "execution_count": 2,
     "metadata": {},
     "output_type": "execute_result"
    }
   ],
   "source": [
    "dados = pd.read_csv('Customer-Churn.csv')\n",
    "dados.head()"
   ]
  },
  {
   "cell_type": "markdown",
   "id": "e0f4a5c6",
   "metadata": {},
   "source": [
    "## Tratamento de dados"
   ]
  },
  {
   "cell_type": "code",
   "execution_count": 3,
   "id": "2bdc5357",
   "metadata": {},
   "outputs": [
    {
     "data": {
      "text/plain": [
       "(7043, 18)"
      ]
     },
     "execution_count": 3,
     "metadata": {},
     "output_type": "execute_result"
    }
   ],
   "source": [
    "dados.shape"
   ]
  },
  {
   "cell_type": "code",
   "execution_count": 4,
   "id": "b9e11943",
   "metadata": {},
   "outputs": [
    {
     "data": {
      "text/plain": [
       "FibraOptica    3096\n",
       "DSL            2421\n",
       "Nao            1526\n",
       "Name: ServicoDeInternet, dtype: int64"
      ]
     },
     "execution_count": 4,
     "metadata": {},
     "output_type": "execute_result"
    }
   ],
   "source": [
    "dados.ServicoDeInternet.value_counts()"
   ]
  },
  {
   "cell_type": "code",
   "execution_count": 5,
   "id": "b4c138d0",
   "metadata": {},
   "outputs": [
    {
     "data": {
      "text/html": [
       "<div>\n",
       "<style scoped>\n",
       "    .dataframe tbody tr th:only-of-type {\n",
       "        vertical-align: middle;\n",
       "    }\n",
       "\n",
       "    .dataframe tbody tr th {\n",
       "        vertical-align: top;\n",
       "    }\n",
       "\n",
       "    .dataframe thead th {\n",
       "        text-align: right;\n",
       "    }\n",
       "</style>\n",
       "<table border=\"1\" class=\"dataframe\">\n",
       "  <thead>\n",
       "    <tr style=\"text-align: right;\">\n",
       "      <th></th>\n",
       "      <th>Conjuge</th>\n",
       "      <th>Dependentes</th>\n",
       "      <th>TelefoneFixo</th>\n",
       "      <th>PagamentoOnline</th>\n",
       "      <th>Churn</th>\n",
       "    </tr>\n",
       "  </thead>\n",
       "  <tbody>\n",
       "    <tr>\n",
       "      <th>0</th>\n",
       "      <td>1</td>\n",
       "      <td>0</td>\n",
       "      <td>0</td>\n",
       "      <td>1</td>\n",
       "      <td>0</td>\n",
       "    </tr>\n",
       "    <tr>\n",
       "      <th>1</th>\n",
       "      <td>0</td>\n",
       "      <td>0</td>\n",
       "      <td>1</td>\n",
       "      <td>0</td>\n",
       "      <td>0</td>\n",
       "    </tr>\n",
       "    <tr>\n",
       "      <th>2</th>\n",
       "      <td>0</td>\n",
       "      <td>0</td>\n",
       "      <td>1</td>\n",
       "      <td>1</td>\n",
       "      <td>1</td>\n",
       "    </tr>\n",
       "    <tr>\n",
       "      <th>3</th>\n",
       "      <td>0</td>\n",
       "      <td>0</td>\n",
       "      <td>0</td>\n",
       "      <td>0</td>\n",
       "      <td>0</td>\n",
       "    </tr>\n",
       "    <tr>\n",
       "      <th>4</th>\n",
       "      <td>0</td>\n",
       "      <td>0</td>\n",
       "      <td>1</td>\n",
       "      <td>1</td>\n",
       "      <td>1</td>\n",
       "    </tr>\n",
       "  </tbody>\n",
       "</table>\n",
       "</div>"
      ],
      "text/plain": [
       "   Conjuge  Dependentes  TelefoneFixo  PagamentoOnline  Churn\n",
       "0        1            0             0                1      0\n",
       "1        0            0             1                0      0\n",
       "2        0            0             1                1      1\n",
       "3        0            0             0                0      0\n",
       "4        0            0             1                1      1"
      ]
     },
     "execution_count": 5,
     "metadata": {},
     "output_type": "execute_result"
    }
   ],
   "source": [
    "traducao_dic = {'Sim' : 1, 'Nao': 0}\n",
    "dadosmodificados = dados [['Conjuge', 'Dependentes', 'TelefoneFixo', 'PagamentoOnline', 'Churn']]\n",
    "dadosmodificados = dadosmodificados.replace(traducao_dic)\n",
    "dadosmodificados.head()"
   ]
  },
  {
   "cell_type": "markdown",
   "id": "c0d18f6d",
   "metadata": {},
   "source": [
    "### Transformando valores categóricos em valores binários"
   ]
  },
  {
   "cell_type": "code",
   "execution_count": 6,
   "id": "1d096c69",
   "metadata": {},
   "outputs": [
    {
     "data": {
      "text/html": [
       "<div>\n",
       "<style scoped>\n",
       "    .dataframe tbody tr th:only-of-type {\n",
       "        vertical-align: middle;\n",
       "    }\n",
       "\n",
       "    .dataframe tbody tr th {\n",
       "        vertical-align: top;\n",
       "    }\n",
       "\n",
       "    .dataframe thead th {\n",
       "        text-align: right;\n",
       "    }\n",
       "</style>\n",
       "<table border=\"1\" class=\"dataframe\">\n",
       "  <thead>\n",
       "    <tr style=\"text-align: right;\">\n",
       "      <th></th>\n",
       "      <th>Maior65Anos</th>\n",
       "      <th>MesesDeContrato</th>\n",
       "      <th>ContaMensal</th>\n",
       "      <th>VariasLinhasTelefonicas_Nao</th>\n",
       "      <th>VariasLinhasTelefonicas_SemServicoTelefonico</th>\n",
       "      <th>VariasLinhasTelefonicas_Sim</th>\n",
       "      <th>ServicoDeInternet_DSL</th>\n",
       "      <th>ServicoDeInternet_FibraOptica</th>\n",
       "      <th>ServicoDeInternet_Nao</th>\n",
       "      <th>SegurancaOnline_Nao</th>\n",
       "      <th>...</th>\n",
       "      <th>StreamingDeFilmes_Nao</th>\n",
       "      <th>StreamingDeFilmes_SemServicoDeInternet</th>\n",
       "      <th>StreamingDeFilmes_Sim</th>\n",
       "      <th>TipoDeContrato_DoisAnos</th>\n",
       "      <th>TipoDeContrato_Mensalmente</th>\n",
       "      <th>TipoDeContrato_UmAno</th>\n",
       "      <th>FormaDePagamento_CartaoDeCredito</th>\n",
       "      <th>FormaDePagamento_ChequeDigital</th>\n",
       "      <th>FormaDePagamento_ChequePapel</th>\n",
       "      <th>FormaDePagamento_DebitoEmConta</th>\n",
       "    </tr>\n",
       "  </thead>\n",
       "  <tbody>\n",
       "    <tr>\n",
       "      <th>0</th>\n",
       "      <td>0</td>\n",
       "      <td>1</td>\n",
       "      <td>29.85</td>\n",
       "      <td>0</td>\n",
       "      <td>1</td>\n",
       "      <td>0</td>\n",
       "      <td>1</td>\n",
       "      <td>0</td>\n",
       "      <td>0</td>\n",
       "      <td>1</td>\n",
       "      <td>...</td>\n",
       "      <td>1</td>\n",
       "      <td>0</td>\n",
       "      <td>0</td>\n",
       "      <td>0</td>\n",
       "      <td>1</td>\n",
       "      <td>0</td>\n",
       "      <td>0</td>\n",
       "      <td>1</td>\n",
       "      <td>0</td>\n",
       "      <td>0</td>\n",
       "    </tr>\n",
       "    <tr>\n",
       "      <th>1</th>\n",
       "      <td>0</td>\n",
       "      <td>34</td>\n",
       "      <td>56.95</td>\n",
       "      <td>1</td>\n",
       "      <td>0</td>\n",
       "      <td>0</td>\n",
       "      <td>1</td>\n",
       "      <td>0</td>\n",
       "      <td>0</td>\n",
       "      <td>0</td>\n",
       "      <td>...</td>\n",
       "      <td>1</td>\n",
       "      <td>0</td>\n",
       "      <td>0</td>\n",
       "      <td>0</td>\n",
       "      <td>0</td>\n",
       "      <td>1</td>\n",
       "      <td>0</td>\n",
       "      <td>0</td>\n",
       "      <td>1</td>\n",
       "      <td>0</td>\n",
       "    </tr>\n",
       "    <tr>\n",
       "      <th>2</th>\n",
       "      <td>0</td>\n",
       "      <td>2</td>\n",
       "      <td>53.85</td>\n",
       "      <td>1</td>\n",
       "      <td>0</td>\n",
       "      <td>0</td>\n",
       "      <td>1</td>\n",
       "      <td>0</td>\n",
       "      <td>0</td>\n",
       "      <td>0</td>\n",
       "      <td>...</td>\n",
       "      <td>1</td>\n",
       "      <td>0</td>\n",
       "      <td>0</td>\n",
       "      <td>0</td>\n",
       "      <td>1</td>\n",
       "      <td>0</td>\n",
       "      <td>0</td>\n",
       "      <td>0</td>\n",
       "      <td>1</td>\n",
       "      <td>0</td>\n",
       "    </tr>\n",
       "    <tr>\n",
       "      <th>3</th>\n",
       "      <td>0</td>\n",
       "      <td>45</td>\n",
       "      <td>42.30</td>\n",
       "      <td>0</td>\n",
       "      <td>1</td>\n",
       "      <td>0</td>\n",
       "      <td>1</td>\n",
       "      <td>0</td>\n",
       "      <td>0</td>\n",
       "      <td>0</td>\n",
       "      <td>...</td>\n",
       "      <td>1</td>\n",
       "      <td>0</td>\n",
       "      <td>0</td>\n",
       "      <td>0</td>\n",
       "      <td>0</td>\n",
       "      <td>1</td>\n",
       "      <td>0</td>\n",
       "      <td>0</td>\n",
       "      <td>0</td>\n",
       "      <td>1</td>\n",
       "    </tr>\n",
       "    <tr>\n",
       "      <th>4</th>\n",
       "      <td>0</td>\n",
       "      <td>2</td>\n",
       "      <td>70.70</td>\n",
       "      <td>1</td>\n",
       "      <td>0</td>\n",
       "      <td>0</td>\n",
       "      <td>0</td>\n",
       "      <td>1</td>\n",
       "      <td>0</td>\n",
       "      <td>1</td>\n",
       "      <td>...</td>\n",
       "      <td>1</td>\n",
       "      <td>0</td>\n",
       "      <td>0</td>\n",
       "      <td>0</td>\n",
       "      <td>1</td>\n",
       "      <td>0</td>\n",
       "      <td>0</td>\n",
       "      <td>1</td>\n",
       "      <td>0</td>\n",
       "      <td>0</td>\n",
       "    </tr>\n",
       "  </tbody>\n",
       "</table>\n",
       "<p>5 rows × 34 columns</p>\n",
       "</div>"
      ],
      "text/plain": [
       "   Maior65Anos  MesesDeContrato  ContaMensal  VariasLinhasTelefonicas_Nao  \\\n",
       "0            0                1        29.85                            0   \n",
       "1            0               34        56.95                            1   \n",
       "2            0                2        53.85                            1   \n",
       "3            0               45        42.30                            0   \n",
       "4            0                2        70.70                            1   \n",
       "\n",
       "   VariasLinhasTelefonicas_SemServicoTelefonico  VariasLinhasTelefonicas_Sim  \\\n",
       "0                                             1                            0   \n",
       "1                                             0                            0   \n",
       "2                                             0                            0   \n",
       "3                                             1                            0   \n",
       "4                                             0                            0   \n",
       "\n",
       "   ServicoDeInternet_DSL  ServicoDeInternet_FibraOptica  \\\n",
       "0                      1                              0   \n",
       "1                      1                              0   \n",
       "2                      1                              0   \n",
       "3                      1                              0   \n",
       "4                      0                              1   \n",
       "\n",
       "   ServicoDeInternet_Nao  SegurancaOnline_Nao  ...  StreamingDeFilmes_Nao  \\\n",
       "0                      0                    1  ...                      1   \n",
       "1                      0                    0  ...                      1   \n",
       "2                      0                    0  ...                      1   \n",
       "3                      0                    0  ...                      1   \n",
       "4                      0                    1  ...                      1   \n",
       "\n",
       "   StreamingDeFilmes_SemServicoDeInternet  StreamingDeFilmes_Sim  \\\n",
       "0                                       0                      0   \n",
       "1                                       0                      0   \n",
       "2                                       0                      0   \n",
       "3                                       0                      0   \n",
       "4                                       0                      0   \n",
       "\n",
       "   TipoDeContrato_DoisAnos  TipoDeContrato_Mensalmente  TipoDeContrato_UmAno  \\\n",
       "0                        0                           1                     0   \n",
       "1                        0                           0                     1   \n",
       "2                        0                           1                     0   \n",
       "3                        0                           0                     1   \n",
       "4                        0                           1                     0   \n",
       "\n",
       "   FormaDePagamento_CartaoDeCredito  FormaDePagamento_ChequeDigital  \\\n",
       "0                                 0                               1   \n",
       "1                                 0                               0   \n",
       "2                                 0                               0   \n",
       "3                                 0                               0   \n",
       "4                                 0                               1   \n",
       "\n",
       "   FormaDePagamento_ChequePapel  FormaDePagamento_DebitoEmConta  \n",
       "0                             0                               0  \n",
       "1                             1                               0  \n",
       "2                             1                               0  \n",
       "3                             0                               1  \n",
       "4                             0                               0  \n",
       "\n",
       "[5 rows x 34 columns]"
      ]
     },
     "execution_count": 6,
     "metadata": {},
     "output_type": "execute_result"
    }
   ],
   "source": [
    "dummie_dados = pd.get_dummies(dados.drop(['Conjuge', 'Dependentes', 'TelefoneFixo', 'PagamentoOnline', 'Churn'], axis=1))\n",
    "dummie_dados.head()"
   ]
  },
  {
   "cell_type": "code",
   "execution_count": 7,
   "id": "cf071373",
   "metadata": {},
   "outputs": [
    {
     "data": {
      "text/html": [
       "<div>\n",
       "<style scoped>\n",
       "    .dataframe tbody tr th:only-of-type {\n",
       "        vertical-align: middle;\n",
       "    }\n",
       "\n",
       "    .dataframe tbody tr th {\n",
       "        vertical-align: top;\n",
       "    }\n",
       "\n",
       "    .dataframe thead th {\n",
       "        text-align: right;\n",
       "    }\n",
       "</style>\n",
       "<table border=\"1\" class=\"dataframe\">\n",
       "  <thead>\n",
       "    <tr style=\"text-align: right;\">\n",
       "      <th></th>\n",
       "      <th>Conjuge</th>\n",
       "      <th>Dependentes</th>\n",
       "      <th>TelefoneFixo</th>\n",
       "      <th>PagamentoOnline</th>\n",
       "      <th>Churn</th>\n",
       "      <th>Maior65Anos</th>\n",
       "      <th>MesesDeContrato</th>\n",
       "      <th>ContaMensal</th>\n",
       "      <th>VariasLinhasTelefonicas_Nao</th>\n",
       "      <th>VariasLinhasTelefonicas_SemServicoTelefonico</th>\n",
       "      <th>...</th>\n",
       "      <th>StreamingDeFilmes_Nao</th>\n",
       "      <th>StreamingDeFilmes_SemServicoDeInternet</th>\n",
       "      <th>StreamingDeFilmes_Sim</th>\n",
       "      <th>TipoDeContrato_DoisAnos</th>\n",
       "      <th>TipoDeContrato_Mensalmente</th>\n",
       "      <th>TipoDeContrato_UmAno</th>\n",
       "      <th>FormaDePagamento_CartaoDeCredito</th>\n",
       "      <th>FormaDePagamento_ChequeDigital</th>\n",
       "      <th>FormaDePagamento_ChequePapel</th>\n",
       "      <th>FormaDePagamento_DebitoEmConta</th>\n",
       "    </tr>\n",
       "  </thead>\n",
       "  <tbody>\n",
       "    <tr>\n",
       "      <th>0</th>\n",
       "      <td>1</td>\n",
       "      <td>0</td>\n",
       "      <td>0</td>\n",
       "      <td>1</td>\n",
       "      <td>0</td>\n",
       "      <td>0</td>\n",
       "      <td>1</td>\n",
       "      <td>29.85</td>\n",
       "      <td>0</td>\n",
       "      <td>1</td>\n",
       "      <td>...</td>\n",
       "      <td>1</td>\n",
       "      <td>0</td>\n",
       "      <td>0</td>\n",
       "      <td>0</td>\n",
       "      <td>1</td>\n",
       "      <td>0</td>\n",
       "      <td>0</td>\n",
       "      <td>1</td>\n",
       "      <td>0</td>\n",
       "      <td>0</td>\n",
       "    </tr>\n",
       "    <tr>\n",
       "      <th>1</th>\n",
       "      <td>0</td>\n",
       "      <td>0</td>\n",
       "      <td>1</td>\n",
       "      <td>0</td>\n",
       "      <td>0</td>\n",
       "      <td>0</td>\n",
       "      <td>34</td>\n",
       "      <td>56.95</td>\n",
       "      <td>1</td>\n",
       "      <td>0</td>\n",
       "      <td>...</td>\n",
       "      <td>1</td>\n",
       "      <td>0</td>\n",
       "      <td>0</td>\n",
       "      <td>0</td>\n",
       "      <td>0</td>\n",
       "      <td>1</td>\n",
       "      <td>0</td>\n",
       "      <td>0</td>\n",
       "      <td>1</td>\n",
       "      <td>0</td>\n",
       "    </tr>\n",
       "    <tr>\n",
       "      <th>2</th>\n",
       "      <td>0</td>\n",
       "      <td>0</td>\n",
       "      <td>1</td>\n",
       "      <td>1</td>\n",
       "      <td>1</td>\n",
       "      <td>0</td>\n",
       "      <td>2</td>\n",
       "      <td>53.85</td>\n",
       "      <td>1</td>\n",
       "      <td>0</td>\n",
       "      <td>...</td>\n",
       "      <td>1</td>\n",
       "      <td>0</td>\n",
       "      <td>0</td>\n",
       "      <td>0</td>\n",
       "      <td>1</td>\n",
       "      <td>0</td>\n",
       "      <td>0</td>\n",
       "      <td>0</td>\n",
       "      <td>1</td>\n",
       "      <td>0</td>\n",
       "    </tr>\n",
       "    <tr>\n",
       "      <th>3</th>\n",
       "      <td>0</td>\n",
       "      <td>0</td>\n",
       "      <td>0</td>\n",
       "      <td>0</td>\n",
       "      <td>0</td>\n",
       "      <td>0</td>\n",
       "      <td>45</td>\n",
       "      <td>42.30</td>\n",
       "      <td>0</td>\n",
       "      <td>1</td>\n",
       "      <td>...</td>\n",
       "      <td>1</td>\n",
       "      <td>0</td>\n",
       "      <td>0</td>\n",
       "      <td>0</td>\n",
       "      <td>0</td>\n",
       "      <td>1</td>\n",
       "      <td>0</td>\n",
       "      <td>0</td>\n",
       "      <td>0</td>\n",
       "      <td>1</td>\n",
       "    </tr>\n",
       "    <tr>\n",
       "      <th>4</th>\n",
       "      <td>0</td>\n",
       "      <td>0</td>\n",
       "      <td>1</td>\n",
       "      <td>1</td>\n",
       "      <td>1</td>\n",
       "      <td>0</td>\n",
       "      <td>2</td>\n",
       "      <td>70.70</td>\n",
       "      <td>1</td>\n",
       "      <td>0</td>\n",
       "      <td>...</td>\n",
       "      <td>1</td>\n",
       "      <td>0</td>\n",
       "      <td>0</td>\n",
       "      <td>0</td>\n",
       "      <td>1</td>\n",
       "      <td>0</td>\n",
       "      <td>0</td>\n",
       "      <td>1</td>\n",
       "      <td>0</td>\n",
       "      <td>0</td>\n",
       "    </tr>\n",
       "  </tbody>\n",
       "</table>\n",
       "<p>5 rows × 39 columns</p>\n",
       "</div>"
      ],
      "text/plain": [
       "   Conjuge  Dependentes  TelefoneFixo  PagamentoOnline  Churn  Maior65Anos  \\\n",
       "0        1            0             0                1      0            0   \n",
       "1        0            0             1                0      0            0   \n",
       "2        0            0             1                1      1            0   \n",
       "3        0            0             0                0      0            0   \n",
       "4        0            0             1                1      1            0   \n",
       "\n",
       "   MesesDeContrato  ContaMensal  VariasLinhasTelefonicas_Nao  \\\n",
       "0                1        29.85                            0   \n",
       "1               34        56.95                            1   \n",
       "2                2        53.85                            1   \n",
       "3               45        42.30                            0   \n",
       "4                2        70.70                            1   \n",
       "\n",
       "   VariasLinhasTelefonicas_SemServicoTelefonico  ...  StreamingDeFilmes_Nao  \\\n",
       "0                                             1  ...                      1   \n",
       "1                                             0  ...                      1   \n",
       "2                                             0  ...                      1   \n",
       "3                                             1  ...                      1   \n",
       "4                                             0  ...                      1   \n",
       "\n",
       "   StreamingDeFilmes_SemServicoDeInternet  StreamingDeFilmes_Sim  \\\n",
       "0                                       0                      0   \n",
       "1                                       0                      0   \n",
       "2                                       0                      0   \n",
       "3                                       0                      0   \n",
       "4                                       0                      0   \n",
       "\n",
       "   TipoDeContrato_DoisAnos  TipoDeContrato_Mensalmente  TipoDeContrato_UmAno  \\\n",
       "0                        0                           1                     0   \n",
       "1                        0                           0                     1   \n",
       "2                        0                           1                     0   \n",
       "3                        0                           0                     1   \n",
       "4                        0                           1                     0   \n",
       "\n",
       "   FormaDePagamento_CartaoDeCredito  FormaDePagamento_ChequeDigital  \\\n",
       "0                                 0                               1   \n",
       "1                                 0                               0   \n",
       "2                                 0                               0   \n",
       "3                                 0                               0   \n",
       "4                                 0                               1   \n",
       "\n",
       "   FormaDePagamento_ChequePapel  FormaDePagamento_DebitoEmConta  \n",
       "0                             0                               0  \n",
       "1                             1                               0  \n",
       "2                             1                               0  \n",
       "3                             0                               1  \n",
       "4                             0                               0  \n",
       "\n",
       "[5 rows x 39 columns]"
      ]
     },
     "execution_count": 7,
     "metadata": {},
     "output_type": "execute_result"
    }
   ],
   "source": [
    "dados_final = pd.concat([dadosmodificados, dummie_dados], axis=1)\n",
    "dados_final.head()"
   ]
  },
  {
   "cell_type": "code",
   "execution_count": 8,
   "id": "1d43bc40",
   "metadata": {},
   "outputs": [
    {
     "data": {
      "text/html": [
       "<div>\n",
       "<style scoped>\n",
       "    .dataframe tbody tr th:only-of-type {\n",
       "        vertical-align: middle;\n",
       "    }\n",
       "\n",
       "    .dataframe tbody tr th {\n",
       "        vertical-align: top;\n",
       "    }\n",
       "\n",
       "    .dataframe thead th {\n",
       "        text-align: right;\n",
       "    }\n",
       "</style>\n",
       "<table border=\"1\" class=\"dataframe\">\n",
       "  <thead>\n",
       "    <tr style=\"text-align: right;\">\n",
       "      <th></th>\n",
       "      <th>Conjuge</th>\n",
       "      <th>Dependentes</th>\n",
       "      <th>TelefoneFixo</th>\n",
       "      <th>PagamentoOnline</th>\n",
       "      <th>Churn</th>\n",
       "      <th>Maior65Anos</th>\n",
       "      <th>MesesDeContrato</th>\n",
       "      <th>ContaMensal</th>\n",
       "      <th>VariasLinhasTelefonicas_Nao</th>\n",
       "      <th>VariasLinhasTelefonicas_SemServicoTelefonico</th>\n",
       "      <th>VariasLinhasTelefonicas_Sim</th>\n",
       "      <th>ServicoDeInternet_DSL</th>\n",
       "      <th>ServicoDeInternet_FibraOptica</th>\n",
       "      <th>ServicoDeInternet_Nao</th>\n",
       "      <th>SegurancaOnline_Nao</th>\n",
       "      <th>SegurancaOnline_SemServicoDeInternet</th>\n",
       "      <th>SegurancaOnline_Sim</th>\n",
       "      <th>BackupOnline_Nao</th>\n",
       "      <th>BackupOnline_SemServicoDeInternet</th>\n",
       "      <th>BackupOnline_Sim</th>\n",
       "      <th>SeguroNoDispositivo_Nao</th>\n",
       "      <th>SeguroNoDispositivo_SemServicoDeInternet</th>\n",
       "      <th>SeguroNoDispositivo_Sim</th>\n",
       "      <th>SuporteTecnico_Nao</th>\n",
       "      <th>SuporteTecnico_SemServicoDeInternet</th>\n",
       "      <th>SuporteTecnico_Sim</th>\n",
       "      <th>TVaCabo_Nao</th>\n",
       "      <th>TVaCabo_SemServicoDeInternet</th>\n",
       "      <th>TVaCabo_Sim</th>\n",
       "      <th>StreamingDeFilmes_Nao</th>\n",
       "      <th>StreamingDeFilmes_SemServicoDeInternet</th>\n",
       "      <th>StreamingDeFilmes_Sim</th>\n",
       "      <th>TipoDeContrato_DoisAnos</th>\n",
       "      <th>TipoDeContrato_Mensalmente</th>\n",
       "      <th>TipoDeContrato_UmAno</th>\n",
       "      <th>FormaDePagamento_CartaoDeCredito</th>\n",
       "      <th>FormaDePagamento_ChequeDigital</th>\n",
       "      <th>FormaDePagamento_ChequePapel</th>\n",
       "      <th>FormaDePagamento_DebitoEmConta</th>\n",
       "    </tr>\n",
       "  </thead>\n",
       "  <tbody>\n",
       "    <tr>\n",
       "      <th>0</th>\n",
       "      <td>1</td>\n",
       "      <td>0</td>\n",
       "      <td>0</td>\n",
       "      <td>1</td>\n",
       "      <td>0</td>\n",
       "      <td>0</td>\n",
       "      <td>1</td>\n",
       "      <td>29.85</td>\n",
       "      <td>0</td>\n",
       "      <td>1</td>\n",
       "      <td>0</td>\n",
       "      <td>1</td>\n",
       "      <td>0</td>\n",
       "      <td>0</td>\n",
       "      <td>1</td>\n",
       "      <td>0</td>\n",
       "      <td>0</td>\n",
       "      <td>0</td>\n",
       "      <td>0</td>\n",
       "      <td>1</td>\n",
       "      <td>1</td>\n",
       "      <td>0</td>\n",
       "      <td>0</td>\n",
       "      <td>1</td>\n",
       "      <td>0</td>\n",
       "      <td>0</td>\n",
       "      <td>1</td>\n",
       "      <td>0</td>\n",
       "      <td>0</td>\n",
       "      <td>1</td>\n",
       "      <td>0</td>\n",
       "      <td>0</td>\n",
       "      <td>0</td>\n",
       "      <td>1</td>\n",
       "      <td>0</td>\n",
       "      <td>0</td>\n",
       "      <td>1</td>\n",
       "      <td>0</td>\n",
       "      <td>0</td>\n",
       "    </tr>\n",
       "    <tr>\n",
       "      <th>1</th>\n",
       "      <td>0</td>\n",
       "      <td>0</td>\n",
       "      <td>1</td>\n",
       "      <td>0</td>\n",
       "      <td>0</td>\n",
       "      <td>0</td>\n",
       "      <td>34</td>\n",
       "      <td>56.95</td>\n",
       "      <td>1</td>\n",
       "      <td>0</td>\n",
       "      <td>0</td>\n",
       "      <td>1</td>\n",
       "      <td>0</td>\n",
       "      <td>0</td>\n",
       "      <td>0</td>\n",
       "      <td>0</td>\n",
       "      <td>1</td>\n",
       "      <td>1</td>\n",
       "      <td>0</td>\n",
       "      <td>0</td>\n",
       "      <td>0</td>\n",
       "      <td>0</td>\n",
       "      <td>1</td>\n",
       "      <td>1</td>\n",
       "      <td>0</td>\n",
       "      <td>0</td>\n",
       "      <td>1</td>\n",
       "      <td>0</td>\n",
       "      <td>0</td>\n",
       "      <td>1</td>\n",
       "      <td>0</td>\n",
       "      <td>0</td>\n",
       "      <td>0</td>\n",
       "      <td>0</td>\n",
       "      <td>1</td>\n",
       "      <td>0</td>\n",
       "      <td>0</td>\n",
       "      <td>1</td>\n",
       "      <td>0</td>\n",
       "    </tr>\n",
       "    <tr>\n",
       "      <th>2</th>\n",
       "      <td>0</td>\n",
       "      <td>0</td>\n",
       "      <td>1</td>\n",
       "      <td>1</td>\n",
       "      <td>1</td>\n",
       "      <td>0</td>\n",
       "      <td>2</td>\n",
       "      <td>53.85</td>\n",
       "      <td>1</td>\n",
       "      <td>0</td>\n",
       "      <td>0</td>\n",
       "      <td>1</td>\n",
       "      <td>0</td>\n",
       "      <td>0</td>\n",
       "      <td>0</td>\n",
       "      <td>0</td>\n",
       "      <td>1</td>\n",
       "      <td>0</td>\n",
       "      <td>0</td>\n",
       "      <td>1</td>\n",
       "      <td>1</td>\n",
       "      <td>0</td>\n",
       "      <td>0</td>\n",
       "      <td>1</td>\n",
       "      <td>0</td>\n",
       "      <td>0</td>\n",
       "      <td>1</td>\n",
       "      <td>0</td>\n",
       "      <td>0</td>\n",
       "      <td>1</td>\n",
       "      <td>0</td>\n",
       "      <td>0</td>\n",
       "      <td>0</td>\n",
       "      <td>1</td>\n",
       "      <td>0</td>\n",
       "      <td>0</td>\n",
       "      <td>0</td>\n",
       "      <td>1</td>\n",
       "      <td>0</td>\n",
       "    </tr>\n",
       "    <tr>\n",
       "      <th>3</th>\n",
       "      <td>0</td>\n",
       "      <td>0</td>\n",
       "      <td>0</td>\n",
       "      <td>0</td>\n",
       "      <td>0</td>\n",
       "      <td>0</td>\n",
       "      <td>45</td>\n",
       "      <td>42.30</td>\n",
       "      <td>0</td>\n",
       "      <td>1</td>\n",
       "      <td>0</td>\n",
       "      <td>1</td>\n",
       "      <td>0</td>\n",
       "      <td>0</td>\n",
       "      <td>0</td>\n",
       "      <td>0</td>\n",
       "      <td>1</td>\n",
       "      <td>1</td>\n",
       "      <td>0</td>\n",
       "      <td>0</td>\n",
       "      <td>0</td>\n",
       "      <td>0</td>\n",
       "      <td>1</td>\n",
       "      <td>0</td>\n",
       "      <td>0</td>\n",
       "      <td>1</td>\n",
       "      <td>1</td>\n",
       "      <td>0</td>\n",
       "      <td>0</td>\n",
       "      <td>1</td>\n",
       "      <td>0</td>\n",
       "      <td>0</td>\n",
       "      <td>0</td>\n",
       "      <td>0</td>\n",
       "      <td>1</td>\n",
       "      <td>0</td>\n",
       "      <td>0</td>\n",
       "      <td>0</td>\n",
       "      <td>1</td>\n",
       "    </tr>\n",
       "    <tr>\n",
       "      <th>4</th>\n",
       "      <td>0</td>\n",
       "      <td>0</td>\n",
       "      <td>1</td>\n",
       "      <td>1</td>\n",
       "      <td>1</td>\n",
       "      <td>0</td>\n",
       "      <td>2</td>\n",
       "      <td>70.70</td>\n",
       "      <td>1</td>\n",
       "      <td>0</td>\n",
       "      <td>0</td>\n",
       "      <td>0</td>\n",
       "      <td>1</td>\n",
       "      <td>0</td>\n",
       "      <td>1</td>\n",
       "      <td>0</td>\n",
       "      <td>0</td>\n",
       "      <td>1</td>\n",
       "      <td>0</td>\n",
       "      <td>0</td>\n",
       "      <td>1</td>\n",
       "      <td>0</td>\n",
       "      <td>0</td>\n",
       "      <td>1</td>\n",
       "      <td>0</td>\n",
       "      <td>0</td>\n",
       "      <td>1</td>\n",
       "      <td>0</td>\n",
       "      <td>0</td>\n",
       "      <td>1</td>\n",
       "      <td>0</td>\n",
       "      <td>0</td>\n",
       "      <td>0</td>\n",
       "      <td>1</td>\n",
       "      <td>0</td>\n",
       "      <td>0</td>\n",
       "      <td>1</td>\n",
       "      <td>0</td>\n",
       "      <td>0</td>\n",
       "    </tr>\n",
       "  </tbody>\n",
       "</table>\n",
       "</div>"
      ],
      "text/plain": [
       "   Conjuge  Dependentes  TelefoneFixo  PagamentoOnline  Churn  Maior65Anos  \\\n",
       "0        1            0             0                1      0            0   \n",
       "1        0            0             1                0      0            0   \n",
       "2        0            0             1                1      1            0   \n",
       "3        0            0             0                0      0            0   \n",
       "4        0            0             1                1      1            0   \n",
       "\n",
       "   MesesDeContrato  ContaMensal  VariasLinhasTelefonicas_Nao  \\\n",
       "0                1        29.85                            0   \n",
       "1               34        56.95                            1   \n",
       "2                2        53.85                            1   \n",
       "3               45        42.30                            0   \n",
       "4                2        70.70                            1   \n",
       "\n",
       "   VariasLinhasTelefonicas_SemServicoTelefonico  VariasLinhasTelefonicas_Sim  \\\n",
       "0                                             1                            0   \n",
       "1                                             0                            0   \n",
       "2                                             0                            0   \n",
       "3                                             1                            0   \n",
       "4                                             0                            0   \n",
       "\n",
       "   ServicoDeInternet_DSL  ServicoDeInternet_FibraOptica  \\\n",
       "0                      1                              0   \n",
       "1                      1                              0   \n",
       "2                      1                              0   \n",
       "3                      1                              0   \n",
       "4                      0                              1   \n",
       "\n",
       "   ServicoDeInternet_Nao  SegurancaOnline_Nao  \\\n",
       "0                      0                    1   \n",
       "1                      0                    0   \n",
       "2                      0                    0   \n",
       "3                      0                    0   \n",
       "4                      0                    1   \n",
       "\n",
       "   SegurancaOnline_SemServicoDeInternet  SegurancaOnline_Sim  \\\n",
       "0                                     0                    0   \n",
       "1                                     0                    1   \n",
       "2                                     0                    1   \n",
       "3                                     0                    1   \n",
       "4                                     0                    0   \n",
       "\n",
       "   BackupOnline_Nao  BackupOnline_SemServicoDeInternet  BackupOnline_Sim  \\\n",
       "0                 0                                  0                 1   \n",
       "1                 1                                  0                 0   \n",
       "2                 0                                  0                 1   \n",
       "3                 1                                  0                 0   \n",
       "4                 1                                  0                 0   \n",
       "\n",
       "   SeguroNoDispositivo_Nao  SeguroNoDispositivo_SemServicoDeInternet  \\\n",
       "0                        1                                         0   \n",
       "1                        0                                         0   \n",
       "2                        1                                         0   \n",
       "3                        0                                         0   \n",
       "4                        1                                         0   \n",
       "\n",
       "   SeguroNoDispositivo_Sim  SuporteTecnico_Nao  \\\n",
       "0                        0                   1   \n",
       "1                        1                   1   \n",
       "2                        0                   1   \n",
       "3                        1                   0   \n",
       "4                        0                   1   \n",
       "\n",
       "   SuporteTecnico_SemServicoDeInternet  SuporteTecnico_Sim  TVaCabo_Nao  \\\n",
       "0                                    0                   0            1   \n",
       "1                                    0                   0            1   \n",
       "2                                    0                   0            1   \n",
       "3                                    0                   1            1   \n",
       "4                                    0                   0            1   \n",
       "\n",
       "   TVaCabo_SemServicoDeInternet  TVaCabo_Sim  StreamingDeFilmes_Nao  \\\n",
       "0                             0            0                      1   \n",
       "1                             0            0                      1   \n",
       "2                             0            0                      1   \n",
       "3                             0            0                      1   \n",
       "4                             0            0                      1   \n",
       "\n",
       "   StreamingDeFilmes_SemServicoDeInternet  StreamingDeFilmes_Sim  \\\n",
       "0                                       0                      0   \n",
       "1                                       0                      0   \n",
       "2                                       0                      0   \n",
       "3                                       0                      0   \n",
       "4                                       0                      0   \n",
       "\n",
       "   TipoDeContrato_DoisAnos  TipoDeContrato_Mensalmente  TipoDeContrato_UmAno  \\\n",
       "0                        0                           1                     0   \n",
       "1                        0                           0                     1   \n",
       "2                        0                           1                     0   \n",
       "3                        0                           0                     1   \n",
       "4                        0                           1                     0   \n",
       "\n",
       "   FormaDePagamento_CartaoDeCredito  FormaDePagamento_ChequeDigital  \\\n",
       "0                                 0                               1   \n",
       "1                                 0                               0   \n",
       "2                                 0                               0   \n",
       "3                                 0                               0   \n",
       "4                                 0                               1   \n",
       "\n",
       "   FormaDePagamento_ChequePapel  FormaDePagamento_DebitoEmConta  \n",
       "0                             0                               0  \n",
       "1                             1                               0  \n",
       "2                             1                               0  \n",
       "3                             0                               1  \n",
       "4                             0                               0  "
      ]
     },
     "execution_count": 8,
     "metadata": {},
     "output_type": "execute_result"
    }
   ],
   "source": [
    "pd.set_option('display.max_columns', 39)\n",
    "dados_final.head()"
   ]
  },
  {
   "cell_type": "markdown",
   "id": "38d6adc6",
   "metadata": {},
   "source": [
    "### Nova cliente - Maria"
   ]
  },
  {
   "cell_type": "code",
   "execution_count": 9,
   "id": "873bb8bf",
   "metadata": {},
   "outputs": [],
   "source": [
    "Xmaria = [[0,0,1,1,0,0,39.90,1,0,0,0,1,0,1,0,0,0,0,1,1,1,0,0,1,0,1,0,0,0,0,1,0,0,1,0,0,0,1]]\n"
   ]
  },
  {
   "cell_type": "markdown",
   "id": "6add1af0",
   "metadata": {},
   "source": [
    "### Balanceamento dos dados"
   ]
  },
  {
   "cell_type": "code",
   "execution_count": 10,
   "id": "7ff0412f",
   "metadata": {},
   "outputs": [
    {
     "data": {
      "image/png": "[encoded data removed]",
      "text/plain": [
       "<Figure size 640x480 with 1 Axes>"
      ]
     },
     "metadata": {},
     "output_type": "display_data"
    }
   ],
   "source": [
    "ax = sns.countplot(x='Churn', data=dados_final)"
   ]
  },
  {
   "cell_type": "code",
   "execution_count": 11,
   "id": "c934336c",
   "metadata": {},
   "outputs": [],
   "source": [
    "# Para podermos aplicar o SMOTE, devemos separar  os dados em variáveis características e resposta  \n",
    "\n",
    "X = dados_final.drop('Churn', axis = 1)\n",
    "y = dados_final['Churn']"
   ]
  },
  {
   "cell_type": "code",
   "execution_count": 12,
   "id": "99a7e0c3",
   "metadata": {},
   "outputs": [],
   "source": [
    "from imblearn.over_sampling import SMOTE\n",
    "\n",
    "smt = SMOTE(random_state=123)  # Instancia um objeto da classe SMOTE\n",
    "X, y = smt.fit_resample(X, y)  # Realiza a reamostragem do conjunto de dados"
   ]
  },
  {
   "cell_type": "code",
   "execution_count": 13,
   "id": "8ec01fac",
   "metadata": {},
   "outputs": [
    {
     "data": {
      "text/html": [
       "<div>\n",
       "<style scoped>\n",
       "    .dataframe tbody tr th:only-of-type {\n",
       "        vertical-align: middle;\n",
       "    }\n",
       "\n",
       "    .dataframe tbody tr th {\n",
       "        vertical-align: top;\n",
       "    }\n",
       "\n",
       "    .dataframe thead th {\n",
       "        text-align: right;\n",
       "    }\n",
       "</style>\n",
       "<table border=\"1\" class=\"dataframe\">\n",
       "  <thead>\n",
       "    <tr style=\"text-align: right;\">\n",
       "      <th></th>\n",
       "      <th>Conjuge</th>\n",
       "      <th>Dependentes</th>\n",
       "      <th>TelefoneFixo</th>\n",
       "      <th>PagamentoOnline</th>\n",
       "      <th>Maior65Anos</th>\n",
       "      <th>MesesDeContrato</th>\n",
       "      <th>ContaMensal</th>\n",
       "      <th>VariasLinhasTelefonicas_Nao</th>\n",
       "      <th>VariasLinhasTelefonicas_SemServicoTelefonico</th>\n",
       "      <th>VariasLinhasTelefonicas_Sim</th>\n",
       "      <th>ServicoDeInternet_DSL</th>\n",
       "      <th>ServicoDeInternet_FibraOptica</th>\n",
       "      <th>ServicoDeInternet_Nao</th>\n",
       "      <th>SegurancaOnline_Nao</th>\n",
       "      <th>SegurancaOnline_SemServicoDeInternet</th>\n",
       "      <th>SegurancaOnline_Sim</th>\n",
       "      <th>BackupOnline_Nao</th>\n",
       "      <th>BackupOnline_SemServicoDeInternet</th>\n",
       "      <th>BackupOnline_Sim</th>\n",
       "      <th>SeguroNoDispositivo_Nao</th>\n",
       "      <th>SeguroNoDispositivo_SemServicoDeInternet</th>\n",
       "      <th>SeguroNoDispositivo_Sim</th>\n",
       "      <th>SuporteTecnico_Nao</th>\n",
       "      <th>SuporteTecnico_SemServicoDeInternet</th>\n",
       "      <th>SuporteTecnico_Sim</th>\n",
       "      <th>TVaCabo_Nao</th>\n",
       "      <th>TVaCabo_SemServicoDeInternet</th>\n",
       "      <th>TVaCabo_Sim</th>\n",
       "      <th>StreamingDeFilmes_Nao</th>\n",
       "      <th>StreamingDeFilmes_SemServicoDeInternet</th>\n",
       "      <th>StreamingDeFilmes_Sim</th>\n",
       "      <th>TipoDeContrato_DoisAnos</th>\n",
       "      <th>TipoDeContrato_Mensalmente</th>\n",
       "      <th>TipoDeContrato_UmAno</th>\n",
       "      <th>FormaDePagamento_CartaoDeCredito</th>\n",
       "      <th>FormaDePagamento_ChequeDigital</th>\n",
       "      <th>FormaDePagamento_ChequePapel</th>\n",
       "      <th>FormaDePagamento_DebitoEmConta</th>\n",
       "      <th>Churn</th>\n",
       "    </tr>\n",
       "  </thead>\n",
       "  <tbody>\n",
       "    <tr>\n",
       "      <th>0</th>\n",
       "      <td>1</td>\n",
       "      <td>0</td>\n",
       "      <td>0</td>\n",
       "      <td>1</td>\n",
       "      <td>0</td>\n",
       "      <td>1</td>\n",
       "      <td>29.85</td>\n",
       "      <td>0</td>\n",
       "      <td>1</td>\n",
       "      <td>0</td>\n",
       "      <td>1</td>\n",
       "      <td>0</td>\n",
       "      <td>0</td>\n",
       "      <td>1</td>\n",
       "      <td>0</td>\n",
       "      <td>0</td>\n",
       "      <td>0</td>\n",
       "      <td>0</td>\n",
       "      <td>1</td>\n",
       "      <td>1</td>\n",
       "      <td>0</td>\n",
       "      <td>0</td>\n",
       "      <td>1</td>\n",
       "      <td>0</td>\n",
       "      <td>0</td>\n",
       "      <td>1</td>\n",
       "      <td>0</td>\n",
       "      <td>0</td>\n",
       "      <td>1</td>\n",
       "      <td>0</td>\n",
       "      <td>0</td>\n",
       "      <td>0</td>\n",
       "      <td>1</td>\n",
       "      <td>0</td>\n",
       "      <td>0</td>\n",
       "      <td>1</td>\n",
       "      <td>0</td>\n",
       "      <td>0</td>\n",
       "      <td>0</td>\n",
       "    </tr>\n",
       "    <tr>\n",
       "      <th>1</th>\n",
       "      <td>0</td>\n",
       "      <td>0</td>\n",
       "      <td>1</td>\n",
       "      <td>0</td>\n",
       "      <td>0</td>\n",
       "      <td>34</td>\n",
       "      <td>56.95</td>\n",
       "      <td>1</td>\n",
       "      <td>0</td>\n",
       "      <td>0</td>\n",
       "      <td>1</td>\n",
       "      <td>0</td>\n",
       "      <td>0</td>\n",
       "      <td>0</td>\n",
       "      <td>0</td>\n",
       "      <td>1</td>\n",
       "      <td>1</td>\n",
       "      <td>0</td>\n",
       "      <td>0</td>\n",
       "      <td>0</td>\n",
       "      <td>0</td>\n",
       "      <td>1</td>\n",
       "      <td>1</td>\n",
       "      <td>0</td>\n",
       "      <td>0</td>\n",
       "      <td>1</td>\n",
       "      <td>0</td>\n",
       "      <td>0</td>\n",
       "      <td>1</td>\n",
       "      <td>0</td>\n",
       "      <td>0</td>\n",
       "      <td>0</td>\n",
       "      <td>0</td>\n",
       "      <td>1</td>\n",
       "      <td>0</td>\n",
       "      <td>0</td>\n",
       "      <td>1</td>\n",
       "      <td>0</td>\n",
       "      <td>0</td>\n",
       "    </tr>\n",
       "  </tbody>\n",
       "</table>\n",
       "</div>"
      ],
      "text/plain": [
       "   Conjuge  Dependentes  TelefoneFixo  PagamentoOnline  Maior65Anos  \\\n",
       "0        1            0             0                1            0   \n",
       "1        0            0             1                0            0   \n",
       "\n",
       "   MesesDeContrato  ContaMensal  VariasLinhasTelefonicas_Nao  \\\n",
       "0                1        29.85                            0   \n",
       "1               34        56.95                            1   \n",
       "\n",
       "   VariasLinhasTelefonicas_SemServicoTelefonico  VariasLinhasTelefonicas_Sim  \\\n",
       "0                                             1                            0   \n",
       "1                                             0                            0   \n",
       "\n",
       "   ServicoDeInternet_DSL  ServicoDeInternet_FibraOptica  \\\n",
       "0                      1                              0   \n",
       "1                      1                              0   \n",
       "\n",
       "   ServicoDeInternet_Nao  SegurancaOnline_Nao  \\\n",
       "0                      0                    1   \n",
       "1                      0                    0   \n",
       "\n",
       "   SegurancaOnline_SemServicoDeInternet  SegurancaOnline_Sim  \\\n",
       "0                                     0                    0   \n",
       "1                                     0                    1   \n",
       "\n",
       "   BackupOnline_Nao  BackupOnline_SemServicoDeInternet  BackupOnline_Sim  \\\n",
       "0                 0                                  0                 1   \n",
       "1                 1                                  0                 0   \n",
       "\n",
       "   SeguroNoDispositivo_Nao  SeguroNoDispositivo_SemServicoDeInternet  \\\n",
       "0                        1                                         0   \n",
       "1                        0                                         0   \n",
       "\n",
       "   SeguroNoDispositivo_Sim  SuporteTecnico_Nao  \\\n",
       "0                        0                   1   \n",
       "1                        1                   1   \n",
       "\n",
       "   SuporteTecnico_SemServicoDeInternet  SuporteTecnico_Sim  TVaCabo_Nao  \\\n",
       "0                                    0                   0            1   \n",
       "1                                    0                   0            1   \n",
       "\n",
       "   TVaCabo_SemServicoDeInternet  TVaCabo_Sim  StreamingDeFilmes_Nao  \\\n",
       "0                             0            0                      1   \n",
       "1                             0            0                      1   \n",
       "\n",
       "   StreamingDeFilmes_SemServicoDeInternet  StreamingDeFilmes_Sim  \\\n",
       "0                                       0                      0   \n",
       "1                                       0                      0   \n",
       "\n",
       "   TipoDeContrato_DoisAnos  TipoDeContrato_Mensalmente  TipoDeContrato_UmAno  \\\n",
       "0                        0                           1                     0   \n",
       "1                        0                           0                     1   \n",
       "\n",
       "   FormaDePagamento_CartaoDeCredito  FormaDePagamento_ChequeDigital  \\\n",
       "0                                 0                               1   \n",
       "1                                 0                               0   \n",
       "\n",
       "   FormaDePagamento_ChequePapel  FormaDePagamento_DebitoEmConta  Churn  \n",
       "0                             0                               0      0  \n",
       "1                             1                               0      0  "
      ]
     },
     "execution_count": 13,
     "metadata": {},
     "output_type": "execute_result"
    }
   ],
   "source": [
    "dados_final = pd.concat([X, y], axis=1)  # Concatena a variável target (y) com as features (X)\n",
    "\n",
    "# Verifica se o balanceamento e a concatenação estão corretos.\n",
    "dados_final.head(2)"
   ]
  },
  {
   "cell_type": "code",
   "execution_count": 14,
   "id": "98c59e76",
   "metadata": {},
   "outputs": [
    {
     "data": {
      "image/png": "[encoded data removed]",
      "text/plain": [
       "<Figure size 640x480 with 1 Axes>"
      ]
     },
     "metadata": {},
     "output_type": "display_data"
    }
   ],
   "source": [
    "ax = sns.countplot(x='Churn', data=dados_final)  # plotando a variável target balanceada.\n"
   ]
  },
  {
   "cell_type": "markdown",
   "id": "84d5727a",
   "metadata": {},
   "source": [
    "### Normalização dos dados utilizando a ferramenta de pré-processamento, StandardScaler"
   ]
  },
  {
   "cell_type": "code",
   "execution_count": 15,
   "id": "a97d8ce0",
   "metadata": {},
   "outputs": [
    {
     "data": {
      "text/plain": [
       "array([[ 1.26542767, -0.52756038, -3.06083934, ...,  1.30292044,\n",
       "        -0.47943196, -0.43617215],\n",
       "       [-0.79024667, -0.52756038,  0.32670777, ..., -0.76750657,\n",
       "         2.08580171, -0.43617215],\n",
       "       [-0.79024667, -0.52756038,  0.32670777, ..., -0.76750657,\n",
       "         2.08580171, -0.43617215],\n",
       "       ...,\n",
       "       [-0.79024667, -0.52756038,  0.32670777, ...,  1.30292044,\n",
       "        -0.47943196, -0.43617215],\n",
       "       [-0.79024667, -0.52756038,  0.32670777, ..., -0.76750657,\n",
       "        -0.47943196, -0.43617215],\n",
       "       [-0.79024667, -0.52756038,  0.32670777, ..., -0.76750657,\n",
       "        -0.47943196, -0.43617215]])"
      ]
     },
     "execution_count": 15,
     "metadata": {},
     "output_type": "execute_result"
    }
   ],
   "source": [
    "norm = StandardScaler()\n",
    "x_normalizado = norm.fit_transform(X)\n",
    "x_normalizado"
   ]
  },
  {
   "cell_type": "markdown",
   "id": "c82ce60a",
   "metadata": {},
   "source": [
    "### Divisão dos dados para teste e para treino"
   ]
  },
  {
   "cell_type": "code",
   "execution_count": 17,
   "id": "b1f6e30e",
   "metadata": {},
   "outputs": [],
   "source": [
    "from sklearn.model_selection import train_test_split"
   ]
  },
  {
   "cell_type": "code",
   "execution_count": 18,
   "id": "bf854fa3",
   "metadata": {},
   "outputs": [],
   "source": [
    "x_treino, x_teste, y_treino, y_teste = train_test_split(x_normalizado, y, test_size=0.3, random_state=123)"
   ]
  },
  {
   "cell_type": "markdown",
   "id": "4b6bf5a4",
   "metadata": {},
   "source": [
    "70% dos dados representam a fatia de treino, e 30% dos dados representam a fatia de teste"
   ]
  },
  {
   "cell_type": "markdown",
   "id": "42adb4c9",
   "metadata": {},
   "source": [
    "### Implementando o modelo KNN (K-Nearest-Neighbor)"
   ]
  },
  {
   "cell_type": "code",
   "execution_count": 19,
   "id": "4519969c",
   "metadata": {},
   "outputs": [],
   "source": [
    "from sklearn.neighbors import KNeighborsClassifier"
   ]
  },
  {
   "cell_type": "code",
   "execution_count": 20,
   "id": "fcb9115d",
   "metadata": {},
   "outputs": [
    {
     "name": "stderr",
     "output_type": "stream",
     "text": [
      "C:\\Users\\milan\\anaconda3\\lib\\site-packages\\sklearn\\neighbors\\_classification.py:228: FutureWarning: Unlike other reduction functions (e.g. `skew`, `kurtosis`), the default behavior of `mode` typically preserves the axis it acts along. In SciPy 1.11.0, this behavior will change: the default value of `keepdims` will become False, the `axis` over which the statistic is taken will be eliminated, and the value None will no longer be accepted. Set `keepdims` to True or False to avoid this warning.\n",
      "  mode, _ = stats.mode(_y[neigh_ind, k], axis=1)\n"
     ]
    },
    {
     "data": {
      "text/plain": [
       "array([1, 0, 0, ..., 0, 1, 1], dtype=int64)"
      ]
     },
     "execution_count": 20,
     "metadata": {},
     "output_type": "execute_result"
    }
   ],
   "source": [
    "knn = KNeighborsClassifier(metric='euclidean')\n",
    "knn.fit(x_treino, y_treino)\n",
    "predito_knn = knn.predict(x_teste)\n",
    "predito_knn"
   ]
  },
  {
   "cell_type": "markdown",
   "id": "f86315de",
   "metadata": {},
   "source": [
    "A métrica adotada foi a distância euclidiana"
   ]
  },
  {
   "cell_type": "code",
   "execution_count": 21,
   "id": "7d493553",
   "metadata": {},
   "outputs": [],
   "source": [
    "a = Xmaria_normalizado\n",
    "b = x_normalizado[:10]"
   ]
  },
  {
   "cell_type": "code",
   "execution_count": 22,
   "id": "e1633ae0",
   "metadata": {},
   "outputs": [
    {
     "data": {
      "text/plain": [
       "28.91868434269192"
      ]
     },
     "execution_count": 22,
     "metadata": {},
     "output_type": "execute_result"
    }
   ],
   "source": [
    "np.sqrt(np.sum(np.square(a - b)))"
   ]
  },
  {
   "cell_type": "markdown",
   "id": "33f83339",
   "metadata": {},
   "source": [
    "### Implementando o modelo BNB (Bernoulli Naive Bayes)"
   ]
  },
  {
   "cell_type": "code",
   "execution_count": 23,
   "id": "e132694e",
   "metadata": {},
   "outputs": [],
   "source": [
    "from sklearn.naive_bayes import BernoulliNB"
   ]
  },
  {
   "cell_type": "code",
   "execution_count": 24,
   "id": "086301f0",
   "metadata": {},
   "outputs": [],
   "source": [
    "mediana = np.median(x_treino)"
   ]
  },
  {
   "cell_type": "code",
   "execution_count": 49,
   "id": "61a9e0d3",
   "metadata": {},
   "outputs": [
    {
     "data": {
      "text/plain": [
       "array([1, 0, 0, ..., 1, 1, 1], dtype=int64)"
      ]
     },
     "execution_count": 49,
     "metadata": {},
     "output_type": "execute_result"
    }
   ],
   "source": [
    "bnb = BernoulliNB(binarize=mediana)\n",
    "bnb.fit(x_treino, y_treino)\n",
    "predito_bnb = bnb.predict(x_teste)\n",
    "predito_bnb"
   ]
  },
  {
   "cell_type": "markdown",
   "id": "8467f1f3",
   "metadata": {},
   "source": [
    "### Implementando o modelo Árvore de Decisão"
   ]
  },
  {
   "cell_type": "code",
   "execution_count": 26,
   "id": "caa970a7",
   "metadata": {},
   "outputs": [],
   "source": [
    "from sklearn.tree import DecisionTreeClassifier"
   ]
  },
  {
   "cell_type": "code",
   "execution_count": 27,
   "id": "bf480d0a",
   "metadata": {},
   "outputs": [
    {
     "data": {
      "text/plain": [
       "array([0, 0, 0, ..., 1, 1, 1], dtype=int64)"
      ]
     },
     "execution_count": 27,
     "metadata": {},
     "output_type": "execute_result"
    }
   ],
   "source": [
    "dtc = DecisionTreeClassifier(criterion='entropy', random_state=42)\n",
    "dtc.fit(x_treino, y_treino)\n",
    "predito_dtc = dtc.predict(x_teste)\n",
    "predito_dtc"
   ]
  },
  {
   "cell_type": "code",
   "execution_count": 28,
   "id": "669ea437",
   "metadata": {},
   "outputs": [
    {
     "data": {
      "text/plain": [
       "array([0.02100894, 0.01395648, 0.0068095 , 0.01987306, 0.01892071,\n",
       "       0.16274644, 0.22207834, 0.00929414, 0.00344576, 0.01033768,\n",
       "       0.0019815 , 0.03131262, 0.00065123, 0.00849934, 0.        ,\n",
       "       0.01698366, 0.00622973, 0.        , 0.00964718, 0.01267467,\n",
       "       0.00027769, 0.00770208, 0.01306512, 0.00368329, 0.02048744,\n",
       "       0.00371587, 0.        , 0.00156955, 0.00671244, 0.0003825 ,\n",
       "       0.01126638, 0.03611651, 0.16384005, 0.07422263, 0.01760111,\n",
       "       0.02127213, 0.02182911, 0.01980513])"
      ]
     },
     "execution_count": 28,
     "metadata": {},
     "output_type": "execute_result"
    }
   ],
   "source": [
    "dtc.feature_importances_"
   ]
  },
  {
   "cell_type": "markdown",
   "id": "e392974a",
   "metadata": {},
   "source": [
    "### Matriz confusão para cada um dos modelos"
   ]
  },
  {
   "cell_type": "code",
   "execution_count": 29,
   "id": "6dec409b",
   "metadata": {},
   "outputs": [],
   "source": [
    "from sklearn.metrics import confusion_matrix"
   ]
  },
  {
   "cell_type": "code",
   "execution_count": 30,
   "id": "f2912524",
   "metadata": {},
   "outputs": [],
   "source": [
    "matriz_knn = confusion_matrix(y_teste, predito_knn)\n",
    "matriz_bnb = confusion_matrix(y_teste, predito_bnb)\n",
    "matriz_dtc = confusion_matrix(y_teste, predito_dtc)"
   ]
  },
  {
   "cell_type": "code",
   "execution_count": 31,
   "id": "345bf22f",
   "metadata": {},
   "outputs": [
    {
     "data": {
      "image/png": "[encoded data removed]",
      "text/plain": [
       "<Figure size 1000x800 with 2 Axes>"
      ]
     },
     "metadata": {},
     "output_type": "display_data"
    }
   ],
   "source": [
    "sns.set(font_scale=2)\n",
    "plt.figure(figsize=(10,8))\n",
    "ax = sns.heatmap(matriz_knn, annot=True, fmt='d').set(xlabel='Predição', ylabel='Real')"
   ]
  },
  {
   "cell_type": "markdown",
   "id": "17a42369",
   "metadata": {},
   "source": [
    "* A primeira linha e primeira coluna, representam os verdadeiros positivos, com 1241 sendo um valor relativamante alto;  \n",
    "* A segunda coluna e primeira linha, representam os falsos negativos, com um valor de 328;  \n",
    "* A segunda linha e primeira coluna, representam os falsos positivos, com um valor de 247;  \n",
    "* A segunda linha e segunda coluna, representam, os verdadeiros negativos, com um valor de 1289."
   ]
  },
  {
   "cell_type": "code",
   "execution_count": 32,
   "id": "be176065",
   "metadata": {},
   "outputs": [
    {
     "data": {
      "image/png": "[encoded data removed]",
      "text/plain": [
       "<Figure size 1000x800 with 2 Axes>"
      ]
     },
     "metadata": {},
     "output_type": "display_data"
    }
   ],
   "source": [
    "sns.set(font_scale=2)\n",
    "plt.figure(figsize=(10,8))\n",
    "ax = sns.heatmap(matriz_bnb, annot=True, fmt='d').set(xlabel='Predição', ylabel='Real')"
   ]
  },
  {
   "cell_type": "markdown",
   "id": "ad2680d1",
   "metadata": {},
   "source": [
    "* Verdadeiros positivos, com valor de 1048, inferior em relação ao modelo KNN;  \n",
    "* Falsos negativos, com valor de 521, superior em relação ao modelo KNN;  \n",
    "* Falsos positivos, com valor de 242, inferior, porém bem próximo, ao modelo KNN;  \n",
    "* Verdadeiros negativos, com valor ded 1294, levemente superior, ao modelo KNN."
   ]
  },
  {
   "cell_type": "code",
   "execution_count": 33,
   "id": "e5e21b47",
   "metadata": {},
   "outputs": [
    {
     "data": {
      "image/png": "[encoded data removed]",
      "text/plain": [
       "<Figure size 1000x800 with 2 Axes>"
      ]
     },
     "metadata": {},
     "output_type": "display_data"
    }
   ],
   "source": [
    "sns.set(font_scale=2)\n",
    "plt.figure(figsize=(10,8))\n",
    "ax = sns.heatmap(matriz_dtc, annot=True, fmt='d').set(xlabel='Predição', ylabel='Real')"
   ]
  },
  {
   "cell_type": "markdown",
   "id": "7fa154be",
   "metadata": {},
   "source": [
    "* Verdadeiros positivos, com valor 1249, superior aos dois modelos anteriores;  \n",
    "* Falsos negativos, com valor de 320, inferior aos dois modelos anteriores;  \n",
    "* Falsos positivos, com valor de 277, superior aos dois modelos anteriores;  \n",
    "* Verdaeiros negativos, com valor de 1259, inferior aos dois modelos anteriores."
   ]
  },
  {
   "cell_type": "markdown",
   "id": "385e000a",
   "metadata": {},
   "source": [
    "O modelo de árvore de decisão, está tendo dificuldades, para classificar os positivos, em comparação com o modelo KNN e BNB"
   ]
  },
  {
   "cell_type": "markdown",
   "id": "c4501b65",
   "metadata": {},
   "source": [
    "Legenda:\n",
    "\n",
    "0 - Permaneceu com a empresa  \n",
    "1 - Não permaneceu com a empresa"
   ]
  },
  {
   "cell_type": "markdown",
   "id": "a61b012e",
   "metadata": {},
   "source": [
    "### Métrica de validação: Acurácia"
   ]
  },
  {
   "cell_type": "code",
   "execution_count": 34,
   "id": "a6dc4ac6",
   "metadata": {},
   "outputs": [],
   "source": [
    "from sklearn.metrics import accuracy_score"
   ]
  },
  {
   "cell_type": "code",
   "execution_count": 35,
   "id": "8a008b9b",
   "metadata": {},
   "outputs": [
    {
     "name": "stdout",
     "output_type": "stream",
     "text": [
      "A acurácia do modelo KNN é de 81.48%\n",
      "A acurácia do modelo BNB é de 75.43%\n",
      "A acurácia do modelo de árvore de decisão é de 80.77%\n"
     ]
    }
   ],
   "source": [
    "print(f'A acurácia do modelo KNN é de {accuracy_score(y_teste, predito_knn)*100:.2f}%')\n",
    "print(f'A acurácia do modelo BNB é de {accuracy_score(y_teste, predito_bnb)*100:.2f}%')\n",
    "print(f'A acurácia do modelo de árvore de decisão é de {accuracy_score(y_teste, predito_dtc)*100:.2f}%')"
   ]
  },
  {
   "cell_type": "markdown",
   "id": "7be94477",
   "metadata": {},
   "source": [
    "Considerando a métrica de acurácia, o modelo adotado seria o KNN"
   ]
  },
  {
   "cell_type": "markdown",
   "id": "f18c4dec",
   "metadata": {},
   "source": [
    "### Métrica de validação: Precisão"
   ]
  },
  {
   "cell_type": "code",
   "execution_count": 36,
   "id": "70a1f726",
   "metadata": {},
   "outputs": [],
   "source": [
    "from sklearn.metrics import precision_score"
   ]
  },
  {
   "cell_type": "code",
   "execution_count": 37,
   "id": "736efb7f",
   "metadata": {},
   "outputs": [
    {
     "name": "stdout",
     "output_type": "stream",
     "text": [
      "A precisão do modelo KNN é de 79.72%\n",
      "A precisão do modelo BNB é de 71.29%\n",
      "A precisão do modelo de árvore de decisão é de 79.73%\n"
     ]
    }
   ],
   "source": [
    "print(f'A precisão do modelo KNN é de {precision_score(y_teste, predito_knn)*100:.2f}%')\n",
    "print(f'A precisão do modelo BNB é de {precision_score(y_teste, predito_bnb)*100:.2f}%')\n",
    "print(f'A precisão do modelo de árvore de decisão é de {precision_score(y_teste, predito_dtc)*100:.2f}%')"
   ]
  },
  {
   "cell_type": "markdown",
   "id": "f54bafd2",
   "metadata": {},
   "source": [
    "Considerando a métrica de precisão, o modelo adotado seria o de árvore de decisão"
   ]
  },
  {
   "cell_type": "markdown",
   "id": "4cd0ceac",
   "metadata": {},
   "source": [
    "### Métrica de validação: Recall"
   ]
  },
  {
   "cell_type": "code",
   "execution_count": 38,
   "id": "3683ebe5",
   "metadata": {},
   "outputs": [],
   "source": [
    "from sklearn.metrics import recall_score, f1_score"
   ]
  },
  {
   "cell_type": "code",
   "execution_count": 39,
   "id": "bf968402",
   "metadata": {},
   "outputs": [
    {
     "name": "stdout",
     "output_type": "stream",
     "text": [
      "A métrica Recall do modelo KNN é de 83.92%\n",
      "A métrica Recall do modelo BNB é de 84.24%\n",
      "A métrica Recall do modelo de árvore de decisão é de 81.97%\n"
     ]
    }
   ],
   "source": [
    "print(f'A métrica Recall do modelo KNN é de {recall_score(y_teste, predito_knn)*100:.2f}%')\n",
    "print(f'A métrica Recall do modelo BNB é de {recall_score(y_teste, predito_bnb)*100:.2f}%')\n",
    "print(f'A métrica Recall do modelo de árvore de decisão é de {recall_score(y_teste, predito_dtc)*100:.2f}%')"
   ]
  },
  {
   "cell_type": "markdown",
   "id": "b5efca57",
   "metadata": {},
   "source": [
    "Considerando a métrica de recall, o modelo a ser adotados seria o BNB"
   ]
  },
  {
   "cell_type": "markdown",
   "id": "117d0ba5",
   "metadata": {},
   "source": [
    "### Escolhendo o melhor modelo para o problema proposto"
   ]
  },
  {
   "cell_type": "code",
   "execution_count": 40,
   "id": "af7eda46",
   "metadata": {},
   "outputs": [
    {
     "name": "stdout",
     "output_type": "stream",
     "text": [
      "Modelo KNN: 79.72%\n",
      "Modelo Bernoulli de Naive Bayes: 71.29%\n",
      "Modelo Àrvore de Decisão: 79.73%\n"
     ]
    }
   ],
   "source": [
    "print(f'Modelo KNN: {precision_score(y_teste, predito_knn)*100:.2f}%')\n",
    "print(f'Modelo Bernoulli de Naive Bayes: {precision_score(y_teste, predito_bnb)*100:.2f}%')\n",
    "print(f'Modelo Àrvore de Decisão: {precision_score(y_teste, predito_dtc)*100:.2f}%')\n"
   ]
  },
  {
   "cell_type": "markdown",
   "id": "c4c02907",
   "metadata": {},
   "source": [
    "A métrica de precisão foi selecionada, para esse projeto. A proposta é definir as características dos clientes, que deixaram de fazer parte da empresa de telecomunicações, para assim, tomar decisões pra diminuir essa taxa de evasão.  \n",
    "\n",
    "Essa métrica, leva em consideração os valores positivos que foram previstos de forma correta como um todo pelo modelo.\n",
    "\n",
    "<div align=\"center\">\n",
    "<img src=\"precisao.png\" />\n",
    "</div>\n",
    "\n",
    "Sendo assim, o modelo deve prever bem, quem está deixando a empresa."
   ]
  },
  {
   "cell_type": "markdown",
   "id": "7820ccfa",
   "metadata": {},
   "source": [
    "# Prevendo a permanência ou não da cliente Maria, utilizando o modelo de Árvore de decisão"
   ]
  },
  {
   "cell_type": "code",
   "execution_count": 16,
   "id": "94923933",
   "metadata": {},
   "outputs": [
    {
     "data": {
      "text/plain": [
       "array([[-0.79024667, -0.52756038,  0.32670777,  0.8149851 , -0.41334384,\n",
       "        -1.14934709, -0.97235471,  1.13017199, -0.31386908, -0.83366906,\n",
       "        -0.66107688,  0.95797538, -0.44617598,  0.868102  , -0.44617598,\n",
       "        -0.5173695 , -0.95871762, -0.44617598,  1.57389661,  1.04326198,\n",
       "         2.24126814, -0.64211419, -1.13640148,  2.24126814, -0.52426638,\n",
       "         1.18643645, -0.44617598, -0.77707385, -0.83100748, -0.44617598,\n",
       "         1.26594459, -0.44648735, -1.35550751,  2.38155929, -0.42576817,\n",
       "        -0.76750657, -0.47943196,  2.29267273]])"
      ]
     },
     "execution_count": 16,
     "metadata": {},
     "output_type": "execute_result"
    }
   ],
   "source": [
    "Xmaria_normalizado = norm.transform(pd.DataFrame(Xmaria, columns = X.columns))\n",
    "Xmaria_normalizado"
   ]
  },
  {
   "cell_type": "code",
   "execution_count": 52,
   "id": "c58856f4",
   "metadata": {},
   "outputs": [
    {
     "name": "stdout",
     "output_type": "stream",
     "text": [
      "De acordo com o modelo de árvore de decisão, a previsão é de que, Maria irá permanecer com a empresa!\n"
     ]
    }
   ],
   "source": [
    "dtc = DecisionTreeClassifier(criterion='entropy', random_state=42)\n",
    "dtc.fit(x_treino, y_treino)\n",
    "predito_dtc = dtc.predict(Xmaria_normalizado)\n",
    "if predito_dtc[0] == 0:\n",
    "    print(f'De acordo com o modelo de árvore de decisão, a previsão é de que, Maria irá permanecer com a empresa!')\n",
    "else:\n",
    "    print(f'De acordo com o modelo de árvore de decisão, a previsão é de que, Maria não irá permanecer com a empresa!')"
   ]
  }
 ],
 "metadata": {
  "kernelspec": {
   "display_name": "Python 3 (ipykernel)",
   "language": "python",
   "name": "python3"
  },
  "language_info": {
   "codemirror_mode": {
    "name": "ipython",
    "version": 3
   },
   "file_extension": ".py",
   "mimetype": "text/x-python",
   "name": "python",
   "nbconvert_exporter": "python",
   "pygments_lexer": "ipython3",
   "version": "3.9.13"
  }
 },
 "nbformat": 4,
 "nbformat_minor": 5
}
